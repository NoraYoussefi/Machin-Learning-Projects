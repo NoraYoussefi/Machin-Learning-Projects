{
 "cells": [
  {
   "cell_type": "markdown",
   "id": "83e27430",
   "metadata": {},
   "source": [
    "### Ennonce : Utilisation des réseaux multi-couches pour l’analyse des sentiments des phrases issues d’une base d’exemples qui contient des phrases étiquetées avec un sentiment positif ou négatif.\n",
    "\n",
    "#### <span style=\"color:blue\">La solution au dessous est proposée par le trinome:</span>\n",
    "##### <span style=\"color:green\">Ahmed MELLOUK</span>.\n",
    "##### <span style=\"color:green\">Nora YOUSSEFI</span>.\n",
    "##### <span style=\"color:green\">Omar RAGHLI</span>.\n"
   ]
  },
  {
   "cell_type": "markdown",
   "id": "95afe720",
   "metadata": {},
   "source": [
    "# <span style=\"color:#170770\">1) Exploration du DataSet<span>"
   ]
  },
  {
   "cell_type": "markdown",
   "id": "76158d43",
   "metadata": {},
   "source": [
    "###### DataSet est compris par 1000 commentaires, étiqueté par 1 si positif, 0 si negatif."
   ]
  },
  {
   "cell_type": "code",
   "execution_count": 43,
   "id": "1fee5df3",
   "metadata": {},
   "outputs": [],
   "source": [
    "import numpy as np\n",
    "import pandas as pd\n",
    "import seaborn as sns #for data visualization"
   ]
  },
  {
   "cell_type": "code",
   "execution_count": 44,
   "id": "c1f7a0cf",
   "metadata": {},
   "outputs": [],
   "source": [
    "#Lecture des donnnees a partir du fichier text\n",
    "data = []\n",
    "\n",
    "f = open(\"imdb_labelled.txt\", \"r\") #lecture du fichier 'imdb_labelled.txt'\n",
    "\n",
    "for review in f:\n",
    "    x = review.strip().split('\\t')\n",
    "    data.append([x[0], int(x[1])])  #['commentaire','sentiment']"
   ]
  },
  {
   "cell_type": "code",
   "execution_count": 45,
   "id": "4a2343d4",
   "metadata": {},
   "outputs": [
    {
     "data": {
      "text/html": [
       "<div>\n",
       "<style scoped>\n",
       "    .dataframe tbody tr th:only-of-type {\n",
       "        vertical-align: middle;\n",
       "    }\n",
       "\n",
       "    .dataframe tbody tr th {\n",
       "        vertical-align: top;\n",
       "    }\n",
       "\n",
       "    .dataframe thead th {\n",
       "        text-align: right;\n",
       "    }\n",
       "</style>\n",
       "<table border=\"1\" class=\"dataframe\">\n",
       "  <thead>\n",
       "    <tr style=\"text-align: right;\">\n",
       "      <th></th>\n",
       "      <th>review</th>\n",
       "      <th>label</th>\n",
       "    </tr>\n",
       "  </thead>\n",
       "  <tbody>\n",
       "    <tr>\n",
       "      <th>0</th>\n",
       "      <td>A very, very, very slow-moving, aimless movie ...</td>\n",
       "      <td>0</td>\n",
       "    </tr>\n",
       "    <tr>\n",
       "      <th>1</th>\n",
       "      <td>Not sure who was more lost - the flat characte...</td>\n",
       "      <td>0</td>\n",
       "    </tr>\n",
       "    <tr>\n",
       "      <th>2</th>\n",
       "      <td>Attempting artiness with black &amp; white and cle...</td>\n",
       "      <td>0</td>\n",
       "    </tr>\n",
       "    <tr>\n",
       "      <th>3</th>\n",
       "      <td>Very little music or anything to speak of.</td>\n",
       "      <td>0</td>\n",
       "    </tr>\n",
       "    <tr>\n",
       "      <th>4</th>\n",
       "      <td>The best scene in the movie was when Gerardo i...</td>\n",
       "      <td>1</td>\n",
       "    </tr>\n",
       "    <tr>\n",
       "      <th>5</th>\n",
       "      <td>The rest of the movie lacks art, charm, meanin...</td>\n",
       "      <td>0</td>\n",
       "    </tr>\n",
       "    <tr>\n",
       "      <th>6</th>\n",
       "      <td>Wasted two hours.</td>\n",
       "      <td>0</td>\n",
       "    </tr>\n",
       "    <tr>\n",
       "      <th>7</th>\n",
       "      <td>Saw the movie today and thought it was a good ...</td>\n",
       "      <td>1</td>\n",
       "    </tr>\n",
       "    <tr>\n",
       "      <th>8</th>\n",
       "      <td>A bit predictable.</td>\n",
       "      <td>0</td>\n",
       "    </tr>\n",
       "    <tr>\n",
       "      <th>9</th>\n",
       "      <td>Loved the casting of Jimmy Buffet as the scien...</td>\n",
       "      <td>1</td>\n",
       "    </tr>\n",
       "  </tbody>\n",
       "</table>\n",
       "</div>"
      ],
      "text/plain": [
       "                                              review  label\n",
       "0  A very, very, very slow-moving, aimless movie ...      0\n",
       "1  Not sure who was more lost - the flat characte...      0\n",
       "2  Attempting artiness with black & white and cle...      0\n",
       "3       Very little music or anything to speak of.        0\n",
       "4  The best scene in the movie was when Gerardo i...      1\n",
       "5  The rest of the movie lacks art, charm, meanin...      0\n",
       "6                                Wasted two hours.        0\n",
       "7  Saw the movie today and thought it was a good ...      1\n",
       "8                               A bit predictable.        0\n",
       "9  Loved the casting of Jimmy Buffet as the scien...      1"
      ]
     },
     "execution_count": 45,
     "metadata": {},
     "output_type": "execute_result"
    }
   ],
   "source": [
    "df = pd.DataFrame(data, columns=['review', 'label']) #Creation d'un dataframe pour notre fichier text\n",
    "df.head(10)"
   ]
  },
  {
   "cell_type": "code",
   "execution_count": 46,
   "id": "8d9e0231",
   "metadata": {},
   "outputs": [
    {
     "data": {
      "text/plain": [
       "(1000, 2)"
      ]
     },
     "execution_count": 46,
     "metadata": {},
     "output_type": "execute_result"
    }
   ],
   "source": [
    "#1000 lignes, 2 colonnes\n",
    "df.shape"
   ]
  },
  {
   "cell_type": "code",
   "execution_count": 47,
   "id": "1611f638",
   "metadata": {},
   "outputs": [
    {
     "data": {
      "text/plain": [
       "0    500\n",
       "1    500\n",
       "Name: label, dtype: int64"
      ]
     },
     "execution_count": 47,
     "metadata": {},
     "output_type": "execute_result"
    }
   ],
   "source": [
    "#500 review negatif et positifs\n",
    "df.label.value_counts()"
   ]
  },
  {
   "cell_type": "code",
   "execution_count": 48,
   "id": "c8e08895",
   "metadata": {},
   "outputs": [
    {
     "data": {
      "text/plain": [
       "0      A very, very, very slow-moving, aimless movie ...\n",
       "1      Not sure who was more lost - the flat characte...\n",
       "2      Attempting artiness with black & white and cle...\n",
       "3           Very little music or anything to speak of.  \n",
       "4      The best scene in the movie was when Gerardo i...\n",
       "                             ...                        \n",
       "995    I just got bored watching Jessice Lange take h...\n",
       "996    Unfortunately, any virtue in this film's produ...\n",
       "997                     In a word, it is embarrassing.  \n",
       "998                                 Exceptionally bad!  \n",
       "999    All in all its an insult to one's intelligence...\n",
       "Name: review, Length: 1000, dtype: object"
      ]
     },
     "execution_count": 48,
     "metadata": {},
     "output_type": "execute_result"
    }
   ],
   "source": [
    "reviews=df.review.copy() #array of phrases\n",
    "labels=df.label.copy() #array of labels\n",
    "\n",
    "reviews"
   ]
  },
  {
   "cell_type": "markdown",
   "id": "19f9a8f8",
   "metadata": {},
   "source": [
    "##  <span style=\"color:green\">a) Visualisation</span>.\n"
   ]
  },
  {
   "cell_type": "markdown",
   "id": "cb35b50b",
   "metadata": {},
   "source": [
    "###### On observe qu’on a autant d’opinions négatives que positives."
   ]
  },
  {
   "cell_type": "code",
   "execution_count": 49,
   "id": "430bd0d7",
   "metadata": {},
   "outputs": [
    {
     "data": {
      "text/plain": [
       "<AxesSubplot:xlabel='label', ylabel='count'>"
      ]
     },
     "execution_count": 49,
     "metadata": {},
     "output_type": "execute_result"
    },
    {
     "data": {
      "image/png": "[encoded data removed]",
      "text/plain": [
       "<Figure size 432x288 with 1 Axes>"
      ]
     },
     "metadata": {
      "needs_background": "light"
     },
     "output_type": "display_data"
    }
   ],
   "source": [
    "sns.countplot(x=\"label\",data=df)"
   ]
  },
  {
   "cell_type": "markdown",
   "id": "b20c24c7",
   "metadata": {},
   "source": [
    "##  <span style=\"color:green\">b) Mots Frequents avant filtrage</span>.\n"
   ]
  },
  {
   "cell_type": "markdown",
   "id": "0a4e218b",
   "metadata": {},
   "source": [
    "###### La mots frequents dans notre dataset avant traitment, sont des stopwords, ie, des mots neutres, tel que \"the\",\"is\""
   ]
  },
  {
   "cell_type": "code",
   "execution_count": 50,
   "id": "86f32781",
   "metadata": {},
   "outputs": [
    {
     "data": {
      "text/html": [
       "<div>\n",
       "<style scoped>\n",
       "    .dataframe tbody tr th:only-of-type {\n",
       "        vertical-align: middle;\n",
       "    }\n",
       "\n",
       "    .dataframe tbody tr th {\n",
       "        vertical-align: top;\n",
       "    }\n",
       "\n",
       "    .dataframe thead th {\n",
       "        text-align: right;\n",
       "    }\n",
       "</style>\n",
       "<table border=\"1\" class=\"dataframe\">\n",
       "  <thead>\n",
       "    <tr style=\"text-align: right;\">\n",
       "      <th></th>\n",
       "      <th>word</th>\n",
       "      <th>count</th>\n",
       "    </tr>\n",
       "  </thead>\n",
       "  <tbody>\n",
       "    <tr>\n",
       "      <th>0</th>\n",
       "      <td>.</td>\n",
       "      <td>905</td>\n",
       "    </tr>\n",
       "    <tr>\n",
       "      <th>1</th>\n",
       "      <td>the</td>\n",
       "      <td>657</td>\n",
       "    </tr>\n",
       "    <tr>\n",
       "      <th>2</th>\n",
       "      <td>,</td>\n",
       "      <td>649</td>\n",
       "    </tr>\n",
       "    <tr>\n",
       "      <th>3</th>\n",
       "      <td>and</td>\n",
       "      <td>418</td>\n",
       "    </tr>\n",
       "    <tr>\n",
       "      <th>4</th>\n",
       "      <td>a</td>\n",
       "      <td>413</td>\n",
       "    </tr>\n",
       "    <tr>\n",
       "      <th>5</th>\n",
       "      <td>of</td>\n",
       "      <td>370</td>\n",
       "    </tr>\n",
       "    <tr>\n",
       "      <th>6</th>\n",
       "      <td>is</td>\n",
       "      <td>338</td>\n",
       "    </tr>\n",
       "    <tr>\n",
       "      <th>7</th>\n",
       "      <td>I</td>\n",
       "      <td>285</td>\n",
       "    </tr>\n",
       "    <tr>\n",
       "      <th>8</th>\n",
       "      <td>to</td>\n",
       "      <td>247</td>\n",
       "    </tr>\n",
       "    <tr>\n",
       "      <th>9</th>\n",
       "      <td>it</td>\n",
       "      <td>234</td>\n",
       "    </tr>\n",
       "    <tr>\n",
       "      <th>10</th>\n",
       "      <td>this</td>\n",
       "      <td>215</td>\n",
       "    </tr>\n",
       "    <tr>\n",
       "      <th>11</th>\n",
       "      <td>was</td>\n",
       "      <td>191</td>\n",
       "    </tr>\n",
       "    <tr>\n",
       "      <th>12</th>\n",
       "      <td>in</td>\n",
       "      <td>191</td>\n",
       "    </tr>\n",
       "    <tr>\n",
       "      <th>13</th>\n",
       "      <td>The</td>\n",
       "      <td>188</td>\n",
       "    </tr>\n",
       "    <tr>\n",
       "      <th>14</th>\n",
       "      <td>movie</td>\n",
       "      <td>177</td>\n",
       "    </tr>\n",
       "    <tr>\n",
       "      <th>15</th>\n",
       "      <td>'s</td>\n",
       "      <td>160</td>\n",
       "    </tr>\n",
       "    <tr>\n",
       "      <th>16</th>\n",
       "      <td>film</td>\n",
       "      <td>159</td>\n",
       "    </tr>\n",
       "    <tr>\n",
       "      <th>17</th>\n",
       "      <td>that</td>\n",
       "      <td>158</td>\n",
       "    </tr>\n",
       "    <tr>\n",
       "      <th>18</th>\n",
       "      <td>n't</td>\n",
       "      <td>104</td>\n",
       "    </tr>\n",
       "    <tr>\n",
       "      <th>19</th>\n",
       "      <td>for</td>\n",
       "      <td>101</td>\n",
       "    </tr>\n",
       "    <tr>\n",
       "      <th>20</th>\n",
       "      <td>as</td>\n",
       "      <td>90</td>\n",
       "    </tr>\n",
       "    <tr>\n",
       "      <th>21</th>\n",
       "      <td>with</td>\n",
       "      <td>87</td>\n",
       "    </tr>\n",
       "    <tr>\n",
       "      <th>22</th>\n",
       "      <td>It</td>\n",
       "      <td>87</td>\n",
       "    </tr>\n",
       "    <tr>\n",
       "      <th>23</th>\n",
       "      <td>!</td>\n",
       "      <td>85</td>\n",
       "    </tr>\n",
       "    <tr>\n",
       "      <th>24</th>\n",
       "      <td>are</td>\n",
       "      <td>78</td>\n",
       "    </tr>\n",
       "    <tr>\n",
       "      <th>25</th>\n",
       "      <td>This</td>\n",
       "      <td>76</td>\n",
       "    </tr>\n",
       "    <tr>\n",
       "      <th>26</th>\n",
       "      <td>on</td>\n",
       "      <td>74</td>\n",
       "    </tr>\n",
       "    <tr>\n",
       "      <th>27</th>\n",
       "      <td>you</td>\n",
       "      <td>72</td>\n",
       "    </tr>\n",
       "    <tr>\n",
       "      <th>28</th>\n",
       "      <td>one</td>\n",
       "      <td>71</td>\n",
       "    </tr>\n",
       "    <tr>\n",
       "      <th>29</th>\n",
       "      <td>but</td>\n",
       "      <td>64</td>\n",
       "    </tr>\n",
       "  </tbody>\n",
       "</table>\n",
       "</div>"
      ],
      "text/plain": [
       "     word  count\n",
       "0       .    905\n",
       "1     the    657\n",
       "2       ,    649\n",
       "3     and    418\n",
       "4       a    413\n",
       "5      of    370\n",
       "6      is    338\n",
       "7       I    285\n",
       "8      to    247\n",
       "9      it    234\n",
       "10   this    215\n",
       "11    was    191\n",
       "12     in    191\n",
       "13    The    188\n",
       "14  movie    177\n",
       "15     's    160\n",
       "16   film    159\n",
       "17   that    158\n",
       "18    n't    104\n",
       "19    for    101\n",
       "20     as     90\n",
       "21   with     87\n",
       "22     It     87\n",
       "23      !     85\n",
       "24    are     78\n",
       "25   This     76\n",
       "26     on     74\n",
       "27    you     72\n",
       "28    one     71\n",
       "29    but     64"
      ]
     },
     "execution_count": 50,
     "metadata": {},
     "output_type": "execute_result"
    }
   ],
   "source": [
    "from nltk.tokenize import word_tokenize\n",
    "from collections import Counter\n",
    "\n",
    "tokens=Counter() #dictionnaire contenant chaque mot et son nombre d'apparition\n",
    "\n",
    "for review in reviews:  \n",
    "    for word in word_tokenize(review):\n",
    "        tokens[word]+=1 \n",
    "\n",
    "\n",
    "tokens_df = pd.DataFrame.from_dict(dict(tokens.most_common(30)), orient='index').reset_index()\n",
    "tokens_df = tokens_df.rename(columns={'index':'word', 0:'count'})\n",
    "\n",
    "tokens_df"
   ]
  },
  {
   "cell_type": "code",
   "execution_count": 51,
   "id": "978e08c1",
   "metadata": {},
   "outputs": [
    {
     "data": {
      "text/plain": [
       "<seaborn.axisgrid.FacetGrid at 0x2db54daa9a0>"
      ]
     },
     "execution_count": 51,
     "metadata": {},
     "output_type": "execute_result"
    },
    {
     "data": {
      "image/png": "[encoded data removed]",
      "text/plain": [
       "<Figure size 360x360 with 1 Axes>"
      ]
     },
     "metadata": {
      "needs_background": "light"
     },
     "output_type": "display_data"
    }
   ],
   "source": [
    "graph=sns.displot(data=tokens_df, x=\"word\", y=\"count\")\n",
    "graph.set_xticklabels(rotation=90) "
   ]
  },
  {
   "cell_type": "markdown",
   "id": "bd7f56b5",
   "metadata": {},
   "source": [
    "# <span style=\"color:#170770\"> 2) Traitement des donnees </span>"
   ]
  },
  {
   "cell_type": "code",
   "execution_count": 52,
   "id": "5b2c94ae",
   "metadata": {},
   "outputs": [],
   "source": [
    "import nltk #Natural Language Toolkit\n",
    "import re #regex\n",
    "from nltk.corpus import stopwords"
   ]
  },
  {
   "cell_type": "markdown",
   "id": "b8ef0a5e",
   "metadata": {},
   "source": [
    "###### Cette Section contient des fonctions de filtrage des donnees, en realisant les taches suivants.\n",
    "<ol>\n",
    "  <li>Suppression Des mots de longueur inferieur à 2 </li>\n",
    "  <li>Supprimmer les caracteres speciaux dans les mots</li>\n",
    "  <li>Lemmatization (convertir les mots à leur racine)</li>\n",
    "</ol>"
   ]
  },
  {
   "cell_type": "code",
   "execution_count": 53,
   "id": "4f6c7ca2",
   "metadata": {},
   "outputs": [
    {
     "data": {
      "text/plain": [
       "'massive level massive unlockable character massive game'"
      ]
     },
     "execution_count": 53,
     "metadata": {},
     "output_type": "execute_result"
    }
   ],
   "source": [
    "def removeByLength(review):  #suprimmer les mots de longueur < 2\n",
    "    for word in review:\n",
    "        if len(word)<=2:\n",
    "            review=list(filter((word).__ne__, review))\n",
    "    return review\n",
    "    \n",
    "    \n",
    "#Cleaning d'un commentaire\n",
    "def clean(phrase): \n",
    "    \n",
    "    phrase = re.compile('[^a-zA-Z]').sub(' ', phrase).lower().split() #suprimmer les caracteres speciaux\n",
    "    \n",
    "    #lemmatization (greatly , greatness) => (great)\n",
    "    #stopwords (suprimmer les mots neutres, tel que: in,out,i,am,if, ...)\n",
    "    phrase = [nltk.WordNetLemmatizer().lemmatize(word) for word in phrase if not word in stopwords.words('english')]\n",
    "    \n",
    "    phrase=removeByLength(phrase) #filtrer par longueur\n",
    "    \n",
    "    phrase = ' '.join(phrase)\n",
    "    \n",
    "    return phrase\n",
    "\n",
    "\n",
    "clean(\"massive pg pg level 10 12218 massive unlockable character massive game\")"
   ]
  },
  {
   "cell_type": "markdown",
   "id": "fe187fe9",
   "metadata": {},
   "source": [
    "###### Creation d'un datafarme des donnees apres traitement"
   ]
  },
  {
   "cell_type": "code",
   "execution_count": 54,
   "id": "0c76390e",
   "metadata": {},
   "outputs": [
    {
     "data": {
      "text/html": [
       "<div>\n",
       "<style scoped>\n",
       "    .dataframe tbody tr th:only-of-type {\n",
       "        vertical-align: middle;\n",
       "    }\n",
       "\n",
       "    .dataframe tbody tr th {\n",
       "        vertical-align: top;\n",
       "    }\n",
       "\n",
       "    .dataframe thead th {\n",
       "        text-align: right;\n",
       "    }\n",
       "</style>\n",
       "<table border=\"1\" class=\"dataframe\">\n",
       "  <thead>\n",
       "    <tr style=\"text-align: right;\">\n",
       "      <th></th>\n",
       "      <th>clean_review</th>\n",
       "      <th>label</th>\n",
       "    </tr>\n",
       "  </thead>\n",
       "  <tbody>\n",
       "    <tr>\n",
       "      <th>0</th>\n",
       "      <td>slow moving aimless movie distressed drifting ...</td>\n",
       "      <td>0</td>\n",
       "    </tr>\n",
       "    <tr>\n",
       "      <th>1</th>\n",
       "      <td>sure lost flat character audience nearly half ...</td>\n",
       "      <td>0</td>\n",
       "    </tr>\n",
       "    <tr>\n",
       "      <th>2</th>\n",
       "      <td>attempting artiness black white clever camera ...</td>\n",
       "      <td>0</td>\n",
       "    </tr>\n",
       "    <tr>\n",
       "      <th>3</th>\n",
       "      <td>little music anything speak</td>\n",
       "      <td>0</td>\n",
       "    </tr>\n",
       "    <tr>\n",
       "      <th>4</th>\n",
       "      <td>best scene movie gerardo trying find song keep...</td>\n",
       "      <td>1</td>\n",
       "    </tr>\n",
       "  </tbody>\n",
       "</table>\n",
       "</div>"
      ],
      "text/plain": [
       "                                        clean_review  label\n",
       "0  slow moving aimless movie distressed drifting ...      0\n",
       "1  sure lost flat character audience nearly half ...      0\n",
       "2  attempting artiness black white clever camera ...      0\n",
       "3                        little music anything speak      0\n",
       "4  best scene movie gerardo trying find song keep...      1"
      ]
     },
     "execution_count": 54,
     "metadata": {},
     "output_type": "execute_result"
    }
   ],
   "source": [
    "#Cleaning de tous les commentaire dans notre dataset\n",
    "cleaned_dataset=[]\n",
    "\n",
    "for i in range(len(reviews)):\n",
    "    reviews[i]=clean(reviews[i])\n",
    "\n",
    "    \n",
    "for i in range(len(reviews)):\n",
    "    cleaned_dataset.append([reviews[i],labels[i]])\n",
    "    \n",
    "    \n",
    "df_cleaned = pd.DataFrame(cleaned_dataset, columns=['clean_review', 'label'])\n",
    "df_cleaned.head()"
   ]
  },
  {
   "cell_type": "markdown",
   "id": "8e30d084",
   "metadata": {},
   "source": [
    "# <span style=\"color:#170770\"> 3) Extraction des caractéristiques </span>"
   ]
  },
  {
   "cell_type": "code",
   "execution_count": 55,
   "id": "18f087a5",
   "metadata": {},
   "outputs": [],
   "source": [
    "#librairie pour extraire les caracteristiques & creation du vecteur de carateristiques\n",
    "from sklearn.feature_extraction.text import CountVectorizer as CV \n",
    "\n",
    "import pandas as pd"
   ]
  },
  {
   "cell_type": "markdown",
   "id": "33a21cea",
   "metadata": {},
   "source": [
    "###### a. Extraction des caracteristiques a l'aide du CountVectorizer\n",
    "###### b. Convertir chaque opinion a un vecteur, ou chaque valeur est le nombre d'occurence de la caracteristique dans l'opinion"
   ]
  },
  {
   "cell_type": "code",
   "execution_count": 56,
   "id": "77417c00",
   "metadata": {},
   "outputs": [
    {
     "data": {
      "text/html": [
       "<div>\n",
       "<style scoped>\n",
       "    .dataframe tbody tr th:only-of-type {\n",
       "        vertical-align: middle;\n",
       "    }\n",
       "\n",
       "    .dataframe tbody tr th {\n",
       "        vertical-align: top;\n",
       "    }\n",
       "\n",
       "    .dataframe thead th {\n",
       "        text-align: right;\n",
       "    }\n",
       "</style>\n",
       "<table border=\"1\" class=\"dataframe\">\n",
       "  <thead>\n",
       "    <tr style=\"text-align: right;\">\n",
       "      <th></th>\n",
       "      <th>aailiyah</th>\n",
       "      <th>abandoned</th>\n",
       "      <th>ability</th>\n",
       "      <th>abroad</th>\n",
       "      <th>absolutely</th>\n",
       "      <th>abstruse</th>\n",
       "      <th>abysmal</th>\n",
       "      <th>academy</th>\n",
       "      <th>accent</th>\n",
       "      <th>accessible</th>\n",
       "      <th>...</th>\n",
       "      <th>yet</th>\n",
       "      <th>young</th>\n",
       "      <th>younger</th>\n",
       "      <th>youthful</th>\n",
       "      <th>youtube</th>\n",
       "      <th>yun</th>\n",
       "      <th>zillion</th>\n",
       "      <th>zombie</th>\n",
       "      <th>zombiez</th>\n",
       "      <th>label</th>\n",
       "    </tr>\n",
       "  </thead>\n",
       "  <tbody>\n",
       "    <tr>\n",
       "      <th>0</th>\n",
       "      <td>0</td>\n",
       "      <td>0</td>\n",
       "      <td>0</td>\n",
       "      <td>0</td>\n",
       "      <td>0</td>\n",
       "      <td>0</td>\n",
       "      <td>0</td>\n",
       "      <td>0</td>\n",
       "      <td>0</td>\n",
       "      <td>0</td>\n",
       "      <td>...</td>\n",
       "      <td>0</td>\n",
       "      <td>1</td>\n",
       "      <td>0</td>\n",
       "      <td>0</td>\n",
       "      <td>0</td>\n",
       "      <td>0</td>\n",
       "      <td>0</td>\n",
       "      <td>0</td>\n",
       "      <td>0</td>\n",
       "      <td>0</td>\n",
       "    </tr>\n",
       "    <tr>\n",
       "      <th>1</th>\n",
       "      <td>0</td>\n",
       "      <td>0</td>\n",
       "      <td>0</td>\n",
       "      <td>0</td>\n",
       "      <td>0</td>\n",
       "      <td>0</td>\n",
       "      <td>0</td>\n",
       "      <td>0</td>\n",
       "      <td>0</td>\n",
       "      <td>0</td>\n",
       "      <td>...</td>\n",
       "      <td>0</td>\n",
       "      <td>0</td>\n",
       "      <td>0</td>\n",
       "      <td>0</td>\n",
       "      <td>0</td>\n",
       "      <td>0</td>\n",
       "      <td>0</td>\n",
       "      <td>0</td>\n",
       "      <td>0</td>\n",
       "      <td>0</td>\n",
       "    </tr>\n",
       "    <tr>\n",
       "      <th>2</th>\n",
       "      <td>0</td>\n",
       "      <td>0</td>\n",
       "      <td>0</td>\n",
       "      <td>0</td>\n",
       "      <td>0</td>\n",
       "      <td>0</td>\n",
       "      <td>0</td>\n",
       "      <td>0</td>\n",
       "      <td>0</td>\n",
       "      <td>0</td>\n",
       "      <td>...</td>\n",
       "      <td>0</td>\n",
       "      <td>0</td>\n",
       "      <td>0</td>\n",
       "      <td>0</td>\n",
       "      <td>0</td>\n",
       "      <td>0</td>\n",
       "      <td>0</td>\n",
       "      <td>0</td>\n",
       "      <td>0</td>\n",
       "      <td>0</td>\n",
       "    </tr>\n",
       "    <tr>\n",
       "      <th>3</th>\n",
       "      <td>0</td>\n",
       "      <td>0</td>\n",
       "      <td>0</td>\n",
       "      <td>0</td>\n",
       "      <td>0</td>\n",
       "      <td>0</td>\n",
       "      <td>0</td>\n",
       "      <td>0</td>\n",
       "      <td>0</td>\n",
       "      <td>0</td>\n",
       "      <td>...</td>\n",
       "      <td>0</td>\n",
       "      <td>0</td>\n",
       "      <td>0</td>\n",
       "      <td>0</td>\n",
       "      <td>0</td>\n",
       "      <td>0</td>\n",
       "      <td>0</td>\n",
       "      <td>0</td>\n",
       "      <td>0</td>\n",
       "      <td>0</td>\n",
       "    </tr>\n",
       "    <tr>\n",
       "      <th>4</th>\n",
       "      <td>0</td>\n",
       "      <td>0</td>\n",
       "      <td>0</td>\n",
       "      <td>0</td>\n",
       "      <td>0</td>\n",
       "      <td>0</td>\n",
       "      <td>0</td>\n",
       "      <td>0</td>\n",
       "      <td>0</td>\n",
       "      <td>0</td>\n",
       "      <td>...</td>\n",
       "      <td>0</td>\n",
       "      <td>0</td>\n",
       "      <td>0</td>\n",
       "      <td>0</td>\n",
       "      <td>0</td>\n",
       "      <td>0</td>\n",
       "      <td>0</td>\n",
       "      <td>0</td>\n",
       "      <td>0</td>\n",
       "      <td>1</td>\n",
       "    </tr>\n",
       "    <tr>\n",
       "      <th>...</th>\n",
       "      <td>...</td>\n",
       "      <td>...</td>\n",
       "      <td>...</td>\n",
       "      <td>...</td>\n",
       "      <td>...</td>\n",
       "      <td>...</td>\n",
       "      <td>...</td>\n",
       "      <td>...</td>\n",
       "      <td>...</td>\n",
       "      <td>...</td>\n",
       "      <td>...</td>\n",
       "      <td>...</td>\n",
       "      <td>...</td>\n",
       "      <td>...</td>\n",
       "      <td>...</td>\n",
       "      <td>...</td>\n",
       "      <td>...</td>\n",
       "      <td>...</td>\n",
       "      <td>...</td>\n",
       "      <td>...</td>\n",
       "      <td>...</td>\n",
       "    </tr>\n",
       "    <tr>\n",
       "      <th>995</th>\n",
       "      <td>0</td>\n",
       "      <td>0</td>\n",
       "      <td>0</td>\n",
       "      <td>0</td>\n",
       "      <td>0</td>\n",
       "      <td>0</td>\n",
       "      <td>0</td>\n",
       "      <td>0</td>\n",
       "      <td>0</td>\n",
       "      <td>0</td>\n",
       "      <td>...</td>\n",
       "      <td>0</td>\n",
       "      <td>0</td>\n",
       "      <td>0</td>\n",
       "      <td>0</td>\n",
       "      <td>0</td>\n",
       "      <td>0</td>\n",
       "      <td>0</td>\n",
       "      <td>0</td>\n",
       "      <td>0</td>\n",
       "      <td>0</td>\n",
       "    </tr>\n",
       "    <tr>\n",
       "      <th>996</th>\n",
       "      <td>0</td>\n",
       "      <td>0</td>\n",
       "      <td>0</td>\n",
       "      <td>0</td>\n",
       "      <td>0</td>\n",
       "      <td>0</td>\n",
       "      <td>0</td>\n",
       "      <td>0</td>\n",
       "      <td>0</td>\n",
       "      <td>0</td>\n",
       "      <td>...</td>\n",
       "      <td>0</td>\n",
       "      <td>0</td>\n",
       "      <td>0</td>\n",
       "      <td>0</td>\n",
       "      <td>0</td>\n",
       "      <td>0</td>\n",
       "      <td>0</td>\n",
       "      <td>0</td>\n",
       "      <td>0</td>\n",
       "      <td>0</td>\n",
       "    </tr>\n",
       "    <tr>\n",
       "      <th>997</th>\n",
       "      <td>0</td>\n",
       "      <td>0</td>\n",
       "      <td>0</td>\n",
       "      <td>0</td>\n",
       "      <td>0</td>\n",
       "      <td>0</td>\n",
       "      <td>0</td>\n",
       "      <td>0</td>\n",
       "      <td>0</td>\n",
       "      <td>0</td>\n",
       "      <td>...</td>\n",
       "      <td>0</td>\n",
       "      <td>0</td>\n",
       "      <td>0</td>\n",
       "      <td>0</td>\n",
       "      <td>0</td>\n",
       "      <td>0</td>\n",
       "      <td>0</td>\n",
       "      <td>0</td>\n",
       "      <td>0</td>\n",
       "      <td>0</td>\n",
       "    </tr>\n",
       "    <tr>\n",
       "      <th>998</th>\n",
       "      <td>0</td>\n",
       "      <td>0</td>\n",
       "      <td>0</td>\n",
       "      <td>0</td>\n",
       "      <td>0</td>\n",
       "      <td>0</td>\n",
       "      <td>0</td>\n",
       "      <td>0</td>\n",
       "      <td>0</td>\n",
       "      <td>0</td>\n",
       "      <td>...</td>\n",
       "      <td>0</td>\n",
       "      <td>0</td>\n",
       "      <td>0</td>\n",
       "      <td>0</td>\n",
       "      <td>0</td>\n",
       "      <td>0</td>\n",
       "      <td>0</td>\n",
       "      <td>0</td>\n",
       "      <td>0</td>\n",
       "      <td>0</td>\n",
       "    </tr>\n",
       "    <tr>\n",
       "      <th>999</th>\n",
       "      <td>0</td>\n",
       "      <td>0</td>\n",
       "      <td>0</td>\n",
       "      <td>0</td>\n",
       "      <td>0</td>\n",
       "      <td>0</td>\n",
       "      <td>0</td>\n",
       "      <td>0</td>\n",
       "      <td>0</td>\n",
       "      <td>0</td>\n",
       "      <td>...</td>\n",
       "      <td>0</td>\n",
       "      <td>0</td>\n",
       "      <td>0</td>\n",
       "      <td>0</td>\n",
       "      <td>0</td>\n",
       "      <td>0</td>\n",
       "      <td>0</td>\n",
       "      <td>0</td>\n",
       "      <td>0</td>\n",
       "      <td>0</td>\n",
       "    </tr>\n",
       "  </tbody>\n",
       "</table>\n",
       "<p>1000 rows × 2677 columns</p>\n",
       "</div>"
      ],
      "text/plain": [
       "     aailiyah  abandoned  ability  abroad  absolutely  abstruse  abysmal  \\\n",
       "0           0          0        0       0           0         0        0   \n",
       "1           0          0        0       0           0         0        0   \n",
       "2           0          0        0       0           0         0        0   \n",
       "3           0          0        0       0           0         0        0   \n",
       "4           0          0        0       0           0         0        0   \n",
       "..        ...        ...      ...     ...         ...       ...      ...   \n",
       "995         0          0        0       0           0         0        0   \n",
       "996         0          0        0       0           0         0        0   \n",
       "997         0          0        0       0           0         0        0   \n",
       "998         0          0        0       0           0         0        0   \n",
       "999         0          0        0       0           0         0        0   \n",
       "\n",
       "     academy  accent  accessible  ...  yet  young  younger  youthful  youtube  \\\n",
       "0          0       0           0  ...    0      1        0         0        0   \n",
       "1          0       0           0  ...    0      0        0         0        0   \n",
       "2          0       0           0  ...    0      0        0         0        0   \n",
       "3          0       0           0  ...    0      0        0         0        0   \n",
       "4          0       0           0  ...    0      0        0         0        0   \n",
       "..       ...     ...         ...  ...  ...    ...      ...       ...      ...   \n",
       "995        0       0           0  ...    0      0        0         0        0   \n",
       "996        0       0           0  ...    0      0        0         0        0   \n",
       "997        0       0           0  ...    0      0        0         0        0   \n",
       "998        0       0           0  ...    0      0        0         0        0   \n",
       "999        0       0           0  ...    0      0        0         0        0   \n",
       "\n",
       "     yun  zillion  zombie  zombiez  label  \n",
       "0      0        0       0        0      0  \n",
       "1      0        0       0        0      0  \n",
       "2      0        0       0        0      0  \n",
       "3      0        0       0        0      0  \n",
       "4      0        0       0        0      1  \n",
       "..   ...      ...     ...      ...    ...  \n",
       "995    0        0       0        0      0  \n",
       "996    0        0       0        0      0  \n",
       "997    0        0       0        0      0  \n",
       "998    0        0       0        0      0  \n",
       "999    0        0       0        0      0  \n",
       "\n",
       "[1000 rows x 2677 columns]"
      ]
     },
     "execution_count": 56,
     "metadata": {},
     "output_type": "execute_result"
    }
   ],
   "source": [
    "rev2vec=[] #liste des vecteur des carateristiques\n",
    "\n",
    "cv = CV() #instance du CountVectorizer()\n",
    "\n",
    "cv.fit(list(reviews)) #Creation d'un dictionnaire contenant tous les mots dans notre DataSet\n",
    "\n",
    "\n",
    "for i in range(len(reviews)):\n",
    "    rev2vec.append(cv.transform([reviews[i]]).toarray()[0]) #convertir commentaire => vecteur binaire\n",
    "   \n",
    "\n",
    "columns = cv.get_feature_names() #Liste des caracteristiques (mots)\n",
    "\n",
    "\n",
    "df=pd.DataFrame(rev2vec, columns= columns, index= list(range(len(reviews)))) #Dataset final (apres traitement)\n",
    "\n",
    "df[\"label\"] = list(labels)\n",
    "\n",
    "df"
   ]
  },
  {
   "cell_type": "code",
   "execution_count": 57,
   "id": "7766a915",
   "metadata": {},
   "outputs": [
    {
     "data": {
      "text/plain": [
       "(1000, 2677)"
      ]
     },
     "execution_count": 57,
     "metadata": {},
     "output_type": "execute_result"
    }
   ],
   "source": [
    "df.shape"
   ]
  },
  {
   "cell_type": "markdown",
   "id": "4bd9d160",
   "metadata": {},
   "source": [
    "# <span style=\"color:#170770\"> 4) Échantillon d'Apprentissage et Test </span>"
   ]
  },
  {
   "cell_type": "code",
   "execution_count": 58,
   "id": "99695948",
   "metadata": {},
   "outputs": [],
   "source": [
    "from sklearn.model_selection import train_test_split  #libraire pour separer les donnees"
   ]
  },
  {
   "cell_type": "markdown",
   "id": "40ea840b",
   "metadata": {},
   "source": [
    "###### On separe les donnees en deux liste, une d'opinions et l'autre des sentiments. "
   ]
  },
  {
   "cell_type": "code",
   "execution_count": 59,
   "id": "5d008d77",
   "metadata": {},
   "outputs": [],
   "source": [
    "# Données + classes cibles\n",
    "# data   = np.array(df.values[:,1:2733], dtype=np.float32) #Données d'entraînement (Input)\n",
    "\n",
    "data   = np.array(df.values[:,1:2676], dtype=np.float32) #Données d'entraînement (Input)\n",
    "target = df.values[:,-1] #Résultats a prédire (Output) \n",
    "\n"
   ]
  },
  {
   "cell_type": "markdown",
   "id": "0f45563e",
   "metadata": {},
   "source": [
    "###### 20% de nos donnees seront dédié pour le test, et le reste pour l'apprentissage"
   ]
  },
  {
   "cell_type": "code",
   "execution_count": 60,
   "id": "c5b7437c",
   "metadata": {},
   "outputs": [
    {
     "data": {
      "text/plain": [
       "800"
      ]
     },
     "execution_count": 60,
     "metadata": {},
     "output_type": "execute_result"
    }
   ],
   "source": [
    "# 200 exemples pour le test\n",
    "(trainX, testX, trainY, testY) = train_test_split(data, target, test_size=0.2)\n",
    "\n",
    "# trainX\n",
    "len(trainX)"
   ]
  },
  {
   "cell_type": "code",
   "execution_count": 61,
   "id": "eedef9a5",
   "metadata": {},
   "outputs": [
    {
     "data": {
      "text/plain": [
       "array([[0, 1],\n",
       "       [1, 0],\n",
       "       [1, 0],\n",
       "       ...,\n",
       "       [1, 0],\n",
       "       [1, 0],\n",
       "       [0, 1]])"
      ]
     },
     "execution_count": 61,
     "metadata": {},
     "output_type": "execute_result"
    }
   ],
   "source": [
    "#Convertir les valeurs cibles en liste de probabilite de chaque valeur\n",
    "#1 => [1,0]\n",
    "#0 => [0,1]  \n",
    "\n",
    "trainYC = np.array(list(map(lambda x: [1,0] if x == 1 else [0,1], trainY))) #Cible pour trainX\n",
    "testYC = np.array(list(map(lambda x: [1,0] if x == 1 else [0,1], testY))) #Cible pour testX\n",
    "\n",
    "trainYC"
   ]
  },
  {
   "cell_type": "markdown",
   "id": "18e28d4e",
   "metadata": {},
   "source": [
    "# <span style=\"color:#170770\"> 5) Perceptron Multicouches </span>"
   ]
  },
  {
   "cell_type": "code",
   "execution_count": 62,
   "id": "3b8847cd",
   "metadata": {},
   "outputs": [],
   "source": [
    "class MultiLayerPerceptron:\n",
    "    \n",
    "    def __init__(self, arch , alpha = 0.1):\n",
    "        \n",
    "        self.W = {} #poids\n",
    "        self.B = {} #biais\n",
    "        \n",
    "        # Taux d'adaptation (learning rate)\n",
    "        self.alpha = alpha\n",
    "        \n",
    "        \n",
    "        # Architecture :nbre de couches et nombre de neurones par couche\n",
    "        self.arch = arch\n",
    "        \n",
    "        \n",
    "        # Initialisation des poids: valeurs issues d'une distribution normale\n",
    "        for i in np.arange(1,len(self.arch)):  \n",
    "            \n",
    "            # Un valeur aleatoire pour les poids\n",
    "            w = np.random.randn(self.arch[i], self.arch[i-1])\n",
    "            self.W[i] = w/np.sqrt(self.arch[i])\n",
    "            \n",
    "            # Un valeur aleatoire pour les biais\n",
    "            b = np.random.randn(self.arch[i],1)\n",
    "            self.B[i] = b/np.sqrt(self.arch[i])            \n",
    "            \n",
    "     \n",
    "    \n",
    "    #Fonction d'activation sigmoid\n",
    "    def sigmoid(self, x):\n",
    "        return 1.0/(1 + np.exp(-x))\n",
    "    \n",
    "    \n",
    "    def dsigmoid(self, x): \n",
    "        return x * (1 - x)\n",
    "    \n",
    "    \n",
    "    \n",
    "    #Calcul et mémorisation de l'état de tous les neurones du réseau \n",
    "    def forward_pass(self, x):\n",
    "        a = np.atleast_2d(x).T\n",
    "        \n",
    "        stats = {}\n",
    "        stats[0] = a\n",
    "        \n",
    "        for layer in np.arange(1, len(self.arch)):\n",
    "            a = self.sigmoid(np.dot(self.W[layer], a) + self.B[layer])\n",
    "            stats[layer] = a\n",
    "            \n",
    "        return stats    \n",
    "    \n",
    "    \n",
    "    \n",
    "    #Fonction qui retourne le sentiment d'un vecteur d'entree en parcourant tous les couches\n",
    "    def predict(self, X):\n",
    "        \n",
    "        a = np.atleast_2d(X).T\n",
    "        \n",
    "        for layer in np.arange(1, len(self.arch)):\n",
    "            a = self.sigmoid(np.dot(self.W[layer], a) + self.B[layer])\n",
    "        \n",
    "        return a\n",
    "    \n",
    "    \n",
    "    \n",
    "    #Calcul de l'erreur quadratique moyenne\n",
    "    def quadratic_loss(self, X, Y):\n",
    "        Y = np.atleast_2d(Y).T\n",
    "        predictions = self.predict(X)\n",
    "        n = X.shape[0]\n",
    "        loss = (1/n) * 0.5 * np.sum((predictions - Y) ** 2) \n",
    "        return loss \n",
    "    \n",
    "    \n",
    "    \n",
    "    #Calcul des gradients locaux \n",
    "    def compute_gradient(self, x, y):\n",
    "     \n",
    "        L = len(self.arch) - 1 \n",
    "        \n",
    "        #Gradients\n",
    "        Gw = {}\n",
    "        Gb = {}\n",
    "        \n",
    "        A = self.forward_pass(x)\n",
    "        \n",
    "        # Les vecteurs delta  \n",
    "        D = {}\n",
    "        y = np.atleast_2d(y).T\n",
    "        deltaL = (A[L] - y) * self.dsigmoid(A[L])\n",
    "        D[L] = deltaL # Pour la sortie \n",
    "        \n",
    "        # Calculer les vecteurs delta des autres couches en utilisants les vecteurs delta de la couche suivante\n",
    "        for l in np.arange(L-1, 0, -1):\n",
    "            D[l] = (self.W[l+1].T.dot(D[l+1])) * self.dsigmoid(A[l])\n",
    "        \n",
    "        for l in np.arange(L, 0, -1):\n",
    "            Gb[l] = D[l]\n",
    "            Gw[l] = D[l].dot(A[l-1].T)        \n",
    "       \n",
    "        return (Gw, Gb)\n",
    "    \n",
    "    \n",
    "    \n",
    "    # Mise à jour par rapport à l'erreur moyenne\n",
    "    def update_with_bloc(self, bloc):\n",
    "      \n",
    "        m = len(bloc)\n",
    "       \n",
    "        # Gradients locaux\n",
    "        GCw = {}\n",
    "        GCb = {}\n",
    "        \n",
    "        # Initialiser à zeros \n",
    "        for i in np.arange(1,len(self.arch)):\n",
    "            GCw[i] = np.zeros(self.W[i].shape)\n",
    "            GCb[i] = np.zeros(self.B[i].shape)\n",
    "            \n",
    "        # Calcul des gradients\n",
    "        for x, y in bloc:\n",
    "            Gw, Gb = self.compute_gradient(x, y)\n",
    "            for i in np.arange(1,len(self.arch)): \n",
    "                GCw[i] += Gw[i]\n",
    "                GCb[i] += Gb[i]\n",
    "                \n",
    "        # Mettre à jour les poids \n",
    "        for l in np.arange(1,len(self.arch)):\n",
    "            self.W[l] = self.W[l] - (self.alpha/m)*(GCw[l])\n",
    "            self.B[l] = self.B[l] - (self.alpha/m)*(GCb[l])\n",
    "    \n",
    "    \n",
    "    \n",
    "    \n",
    "    # Iteration: entrainement en utilisant tous les exemples, un bloc de taille bloc_size chaque fois\n",
    "    def train(self, D, bloc_size):\n",
    "        \n",
    "        train_size = len(D)\n",
    "        np.random.shuffle(D) \n",
    "        \n",
    "        # Bloc d'exemples\n",
    "        blocs = [D[k : k + bloc_size] for k in range(0, train_size, bloc_size)]\n",
    "        \n",
    "        for bloc in blocs: # Mise à jour suite au passage de chaque bloc\n",
    "            self.update_with_bloc(bloc)\n",
    "  \n",
    "\n",
    "\n",
    "\n",
    "    #Entrainement\n",
    "    def fit(self, X, Y, bloc_size = 20, iterations = 10000, error_min = 0.001, displayPeriod = 5000):\n",
    "     \n",
    "        # Exemples avec X et Y Assemblés\n",
    "        D = list(zip(X,Y))\n",
    "        \n",
    "        # Erreurs\n",
    "        errors = [self.quadratic_loss(X,Y)]   # Erreur initiale    \n",
    "        \n",
    "        iter = 0\n",
    "        print(\"Iteration: {}-{}, Error: {:.6f}\".format(iter, iterations,errors[iter]))\n",
    "        while iter < iterations and errors[iter] > error_min: # Tour de boucle \n",
    "            \n",
    "            self.train(D, bloc_size)  # Mettre à jour \n",
    "            errors.append(self.quadratic_loss(X,Y))         # Nouvelle erreur\n",
    "          \n",
    "            if (iter+1) % displayPeriod == 0:\n",
    "                print(\"Iteration: {}-{}, Error: {:.6f}\".format(iter + 1, iterations,errors[iter]))\n",
    "            iter += 1\n",
    "        \n",
    "        if errors[iter] < error_min: # Erreur inférieur à la valeur minimale\n",
    "            print(\"Fin: erreur minimale atteinte : {:.6f}.\", errors[iter])\n",
    "        elif iter == iterations:\n",
    "            print(\"Apprentissage Termine\")\n",
    "       \n",
    "        return (errors, iter)"
   ]
  },
  {
   "cell_type": "markdown",
   "id": "f0c2a988",
   "metadata": {},
   "source": [
    "# <span style=\"color:#170770\"> 6) Apprentissage </span>"
   ]
  },
  {
   "cell_type": "markdown",
   "id": "c9fa4857",
   "metadata": {},
   "source": [
    "###### L'architecture choisis pour le reseau est:\n",
    "<ul>\n",
    "  <li> 4 couches </li>\n",
    "  <li> Le nombre de neurones par couches est, [ dimension(vecteur d'entree), 15, 15, 2 ]</li>\n",
    "  <li>Taux d'adaptation = 0.1</li>\n",
    "</ul>"
   ]
  },
  {
   "cell_type": "code",
   "execution_count": 84,
   "id": "74ac43fc",
   "metadata": {},
   "outputs": [
    {
     "name": "stdout",
     "output_type": "stream",
     "text": [
      "Iteration: 0-500, Error: 0.316362\n",
      "Iteration: 20-500, Error: 0.243143\n",
      "Iteration: 40-500, Error: 0.183626\n",
      "Iteration: 60-500, Error: 0.074495\n",
      "Iteration: 80-500, Error: 0.025536\n",
      "Iteration: 100-500, Error: 0.012021\n",
      "Iteration: 120-500, Error: 0.007930\n",
      "Iteration: 140-500, Error: 0.006242\n",
      "Iteration: 160-500, Error: 0.005351\n",
      "Iteration: 180-500, Error: 0.004792\n",
      "Iteration: 200-500, Error: 0.004313\n",
      "Iteration: 220-500, Error: 0.004015\n",
      "Iteration: 240-500, Error: 0.003746\n",
      "Iteration: 260-500, Error: 0.003530\n",
      "Iteration: 280-500, Error: 0.003369\n",
      "Iteration: 300-500, Error: 0.003237\n",
      "Iteration: 320-500, Error: 0.003123\n",
      "Iteration: 340-500, Error: 0.003048\n",
      "Iteration: 360-500, Error: 0.002974\n",
      "Iteration: 380-500, Error: 0.002880\n",
      "Iteration: 400-500, Error: 0.002843\n",
      "Iteration: 420-500, Error: 0.002773\n",
      "Iteration: 440-500, Error: 0.002731\n",
      "Iteration: 460-500, Error: 0.002695\n",
      "Iteration: 480-500, Error: 0.002674\n",
      "Iteration: 500-500, Error: 0.002620\n",
      "Apprentissage Termine\n"
     ]
    }
   ],
   "source": [
    "pmc = MultiLayerPerceptron(arch=[trainX.shape[1],15,15,2], alpha=0.1) #Instance du PMC\n",
    "\n",
    "(errs, iter_fin) = pmc.fit(trainX, trainYC, iterations=500, bloc_size=5, error_min=0.00001, displayPeriod=20) #Apprentissage"
   ]
  },
  {
   "cell_type": "markdown",
   "id": "16009877",
   "metadata": {},
   "source": [
    "# <span style=\"color:#170770\"> 7) Testing </span>"
   ]
  },
  {
   "cell_type": "code",
   "execution_count": 81,
   "id": "660a501c",
   "metadata": {},
   "outputs": [
    {
     "data": {
      "text/plain": [
       "200"
      ]
     },
     "execution_count": 81,
     "metadata": {},
     "output_type": "execute_result"
    }
   ],
   "source": [
    "targetTestR = ['']*(np.array(testY).shape[0])  #Liste des sentiment prédit par le réseau\n",
    "\n",
    "for index in range(testX.shape[0]): \n",
    "    \n",
    "    #Prediction des sentiment pour l'echantillon du test\n",
    "    prediction = np.round(pmc.predict(testX[index]),0)[:,0].astype(int) \n",
    "    \n",
    "    if((prediction==np.array([1,0])).all()):  #Si sentiment predit est positif, ajouter 1 au targetTestR\n",
    "        targetTestR[index] = 1\n",
    "        \n",
    "    elif((prediction==np.array([0,1])).all()): #Si sentiment predit est negatif, ajouter 0 au targetTestR\n",
    "        targetTestR[index] = 0\n",
    "\n",
    "        \n",
    "# Sortie calculée      \n",
    "targetTestRF=list(map(lambda x: '1' if x == 1 else '0', targetTestR)) \n",
    "\n",
    "# Sortie réelle pour l'echantillon du test \n",
    "testYF=list(map(lambda x: '1' if x == 1 else '0', testY))\n",
    "\n",
    "len(testYF)"
   ]
  },
  {
   "cell_type": "markdown",
   "id": "bab45b25",
   "metadata": {},
   "source": [
    "# <span style=\"color:#170770\"> 8) Évaluation </span>"
   ]
  },
  {
   "cell_type": "markdown",
   "id": "f41e0d70",
   "metadata": {},
   "source": [
    "###### On voit qu'on a une precision ~ 0.8"
   ]
  },
  {
   "cell_type": "code",
   "execution_count": 82,
   "id": "110c6699",
   "metadata": {},
   "outputs": [
    {
     "data": {
      "text/plain": [
       "0.76"
      ]
     },
     "execution_count": 82,
     "metadata": {},
     "output_type": "execute_result"
    }
   ],
   "source": [
    "from sklearn import metrics\n",
    "\n",
    "# Taux de la classification correcte (Comparaison entre sortie calculée et réelle) \n",
    "metrics.accuracy_score(testYF, targetTestRF) "
   ]
  },
  {
   "cell_type": "markdown",
   "id": "7aaf1e96",
   "metadata": {},
   "source": [
    "###### Matrice de confusion"
   ]
  },
  {
   "cell_type": "code",
   "execution_count": 83,
   "id": "7adcce94",
   "metadata": {},
   "outputs": [
    {
     "data": {
      "text/plain": [
       "[Text(0, 0.5, 'False'), Text(0, 1.5, 'True')]"
      ]
     },
     "execution_count": 83,
     "metadata": {},
     "output_type": "execute_result"
    },
    {
     "data": {
      "image/png": "[encoded data removed]",
      "text/plain": [
       "<Figure size 432x288 with 2 Axes>"
      ]
     },
     "metadata": {
      "needs_background": "light"
     },
     "output_type": "display_data"
    }
   ],
   "source": [
    "from sklearn.metrics import confusion_matrix\n",
    "\n",
    "cf_matrix=confusion_matrix(testYF, targetTestRF)\n",
    "\n",
    "\n",
    "group_names = ['True Neg','False Pos','False Neg','True Pos']\n",
    "group_counts = [\"{0:0.0f}\".format(value) for value in cf_matrix.flatten()]\n",
    "group_percentages = [\"{0:.2%}\".format(value) for value in cf_matrix.flatten()/np.sum(cf_matrix)]\n",
    "labels = [f\"{v1}\\n{v2}\\n{v3}\" for v1, v2, v3 in zip(group_names,group_counts,group_percentages)]\n",
    "\n",
    "labels = np.asarray(labels).reshape(2,2)\n",
    "\n",
    "ax = sns.heatmap(cf_matrix, annot=labels, fmt='', cmap='Blues')\n",
    "ax.set_title('Reviews Confusion Matrix with sentiments\\n\\n');\n",
    "ax.set_xlabel('\\nPredicted Values')\n",
    "ax.set_ylabel('Actual Values ');\n",
    "\n",
    "## Ticket labels - List must be in alphabetical order\n",
    "ax.xaxis.set_ticklabels(['False','True'])\n",
    "ax.yaxis.set_ticklabels(['False','True'])\n",
    "## Display the visualization of the Confusion Matrix.\n"
   ]
  }
 ],
 "metadata": {
  "kernelspec": {
   "display_name": "Python 3 (ipykernel)",
   "language": "python",
   "name": "python3"
  },
  "language_info": {
   "codemirror_mode": {
    "name": "ipython",
    "version": 3
   },
   "file_extension": ".py",
   "mimetype": "text/x-python",
   "name": "python",
   "nbconvert_exporter": "python",
   "pygments_lexer": "ipython3",
   "version": "3.9.7"
  }
 },
 "nbformat": 4,
 "nbformat_minor": 5
}
